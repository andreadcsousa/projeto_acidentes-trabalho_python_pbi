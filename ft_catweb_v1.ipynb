{
 "cells": [
  {
   "cell_type": "markdown",
   "metadata": {},
   "source": [
    "Importa a biblioteca de leitura"
   ]
  },
  {
   "cell_type": "code",
   "execution_count": 1,
   "metadata": {},
   "outputs": [],
   "source": [
    "import pandas as pd"
   ]
  },
  {
   "cell_type": "markdown",
   "metadata": {},
   "source": [
    "Lê os arquivos"
   ]
  },
  {
   "cell_type": "code",
   "execution_count": 2,
   "metadata": {},
   "outputs": [],
   "source": [
    "catweb_jan = pd.read_csv('bases_extraidas/D.SDA.PDA.005.CAT.202401.csv', encoding='latin1', sep=';')\n",
    "catweb_fev = pd.read_csv('bases_extraidas/D.SDA.PDA.005.CAT.202402.csv', encoding='latin1', sep=';')\n",
    "catweb_mar = pd.read_csv('bases_extraidas/D.SDA.PDA.005.CAT.202403.csv', encoding='latin1', sep=';')\n",
    "catweb_abr = pd.read_csv('bases_extraidas/D.SDA.PDA.005.CAT.202404.csv', encoding='latin1', sep=';')\n",
    "catweb_mai = pd.read_csv('bases_extraidas/D.SDA.PDA.005.CAT.202405.csv', encoding='latin1', sep=';')"
   ]
  },
  {
   "cell_type": "markdown",
   "metadata": {},
   "source": [
    "Empilha os dataframes"
   ]
  },
  {
   "cell_type": "code",
   "execution_count": 4,
   "metadata": {},
   "outputs": [],
   "source": [
    "catweb_2024 = pd.concat([catweb_jan, catweb_fev, catweb_mar, catweb_abr, catweb_mai], ignore_index=True)"
   ]
  },
  {
   "cell_type": "markdown",
   "metadata": {},
   "source": [
    "Remove espaços em branco e espaços extras nas colunas"
   ]
  },
  {
   "cell_type": "code",
   "execution_count": 5,
   "metadata": {},
   "outputs": [],
   "source": [
    "catweb_2024.columns = catweb_2024.columns.str.strip().str.replace('  ', ' ')"
   ]
  },
  {
   "cell_type": "markdown",
   "metadata": {},
   "source": [
    "Remove espaços em branco nas linhas"
   ]
  },
  {
   "cell_type": "code",
   "execution_count": 6,
   "metadata": {},
   "outputs": [],
   "source": [
    "remove_espacos = ['Agente Causador Acidente', 'CID-10.1', 'Emitente CAT', 'Espécie do benefício', 'Filiação Segurado', 'Indica Óbito Acidente', 'Sexo', 'Tipo do Acidente']\n",
    "\n",
    "catweb_2024[remove_espacos] = catweb_2024[remove_espacos].apply(lambda x: x.str.strip())"
   ]
  },
  {
   "cell_type": "markdown",
   "metadata": {},
   "source": [
    "Substitui valores nulos"
   ]
  },
  {
   "cell_type": "code",
   "execution_count": 7,
   "metadata": {},
   "outputs": [],
   "source": [
    "catweb_2024 = catweb_2024.replace('{ñ class}', 'Não informado')"
   ]
  },
  {
   "cell_type": "markdown",
   "metadata": {},
   "source": [
    "Padroniza valores das colunas de código"
   ]
  },
  {
   "cell_type": "code",
   "execution_count": 8,
   "metadata": {},
   "outputs": [],
   "source": [
    "catweb_2024['CBO'] = catweb_2024['CBO'].astype(str).str.zfill(6)\n",
    "catweb_2024['CNAE2.0 Empregador'] = catweb_2024['CNAE2.0 Empregador'].astype(str).str.zfill(4)"
   ]
  },
  {
   "cell_type": "markdown",
   "metadata": {},
   "source": [
    "Extrai o código pela quantidade de caracteres"
   ]
  },
  {
   "cell_type": "code",
   "execution_count": 9,
   "metadata": {},
   "outputs": [],
   "source": [
    "catweb_2024['CID-10'] = catweb_2024['CID-10'].str[:3]\n",
    "catweb_2024['Munic Empr'] = catweb_2024['Munic Empr'].str[:6]"
   ]
  },
  {
   "cell_type": "markdown",
   "metadata": {},
   "source": [
    "Seleciona e reordena as colunas"
   ]
  },
  {
   "cell_type": "code",
   "execution_count": 10,
   "metadata": {},
   "outputs": [],
   "source": [
    "catweb_2024 = catweb_2024[['Data Acidente', 'Munic Empr', 'CNAE2.0 Empregador', 'CBO', 'CID-10', 'Agente Causador Acidente', 'Espécie do benefício', 'Filiação Segurado', 'Sexo', 'Data Nascimento', 'Tipo do Acidente', 'Natureza da Lesão', 'Parte Corpo Atingida', 'Indica Óbito Acidente']]"
   ]
  },
  {
   "cell_type": "markdown",
   "metadata": {},
   "source": [
    "Renomeia as colunas"
   ]
  },
  {
   "cell_type": "code",
   "execution_count": 11,
   "metadata": {},
   "outputs": [],
   "source": [
    "catweb_2024.columns = ['dt_acidente', 'cd6_mun', 'cd_classe', 'cd_cbo', 'cd_cid', 'causa_acidente', 'tipo_beneficio', 'tipo_segurado', 'nm_sexo', 'dt_nascimento', 'tipo_acidente', 'tipo_lesao', 'local_lesao', 'indica_obito']"
   ]
  },
  {
   "cell_type": "markdown",
   "metadata": {},
   "source": [
    "Exibe o dataframe"
   ]
  },
  {
   "cell_type": "code",
   "execution_count": 12,
   "metadata": {},
   "outputs": [
    {
     "data": {
      "text/html": [
       "<div>\n",
       "<style scoped>\n",
       "    .dataframe tbody tr th:only-of-type {\n",
       "        vertical-align: middle;\n",
       "    }\n",
       "\n",
       "    .dataframe tbody tr th {\n",
       "        vertical-align: top;\n",
       "    }\n",
       "\n",
       "    .dataframe thead th {\n",
       "        text-align: right;\n",
       "    }\n",
       "</style>\n",
       "<table border=\"1\" class=\"dataframe\">\n",
       "  <thead>\n",
       "    <tr style=\"text-align: right;\">\n",
       "      <th></th>\n",
       "      <th>dt_acidente</th>\n",
       "      <th>cd6_mun</th>\n",
       "      <th>cd_classe</th>\n",
       "      <th>cd_cbo</th>\n",
       "      <th>cd_cid</th>\n",
       "      <th>causa_acidente</th>\n",
       "      <th>tipo_beneficio</th>\n",
       "      <th>tipo_segurado</th>\n",
       "      <th>nm_sexo</th>\n",
       "      <th>dt_nascimento</th>\n",
       "      <th>tipo_acidente</th>\n",
       "      <th>tipo_lesao</th>\n",
       "      <th>local_lesao</th>\n",
       "      <th>indica_obito</th>\n",
       "    </tr>\n",
       "  </thead>\n",
       "  <tbody>\n",
       "    <tr>\n",
       "      <th>0</th>\n",
       "      <td>02/01/2024</td>\n",
       "      <td>000000</td>\n",
       "      <td>1555</td>\n",
       "      <td>623310</td>\n",
       "      <td>S81</td>\n",
       "      <td>Motocicleta, Motonet</td>\n",
       "      <td>Pa</td>\n",
       "      <td>Empregado</td>\n",
       "      <td>Masculino</td>\n",
       "      <td>13/02/1995</td>\n",
       "      <td>Trajeto</td>\n",
       "      <td>Escoriacao, Abrasao</td>\n",
       "      <td>Perna (Do Tornozelo,</td>\n",
       "      <td>Não</td>\n",
       "    </tr>\n",
       "    <tr>\n",
       "      <th>1</th>\n",
       "      <td>01/01/2024</td>\n",
       "      <td>230440</td>\n",
       "      <td>8411</td>\n",
       "      <td>223505</td>\n",
       "      <td>Z20</td>\n",
       "      <td>Não informado</td>\n",
       "      <td>Pa</td>\n",
       "      <td>Empregado</td>\n",
       "      <td>Feminino</td>\n",
       "      <td>19/10/1967</td>\n",
       "      <td>Típico</td>\n",
       "      <td>Lesao Imediata</td>\n",
       "      <td>Dedo</td>\n",
       "      <td>Não</td>\n",
       "    </tr>\n",
       "    <tr>\n",
       "      <th>2</th>\n",
       "      <td>02/01/2024</td>\n",
       "      <td>230428</td>\n",
       "      <td>4321</td>\n",
       "      <td>313105</td>\n",
       "      <td>S92</td>\n",
       "      <td>Queda de Pes. em Mes</td>\n",
       "      <td>Pa</td>\n",
       "      <td>Empregado</td>\n",
       "      <td>Masculino</td>\n",
       "      <td>29/07/1981</td>\n",
       "      <td>Típico</td>\n",
       "      <td>Fratura</td>\n",
       "      <td>Pe (Exceto Artelhos)</td>\n",
       "      <td>Não</td>\n",
       "    </tr>\n",
       "    <tr>\n",
       "      <th>3</th>\n",
       "      <td>01/01/2024</td>\n",
       "      <td>420540</td>\n",
       "      <td>8411</td>\n",
       "      <td>515105</td>\n",
       "      <td>S52</td>\n",
       "      <td>Rua e Estrada - Supe</td>\n",
       "      <td>Pa</td>\n",
       "      <td>Empregado</td>\n",
       "      <td>Feminino</td>\n",
       "      <td>06/05/1986</td>\n",
       "      <td>Trajeto</td>\n",
       "      <td>Fratura</td>\n",
       "      <td>Cotovelo</td>\n",
       "      <td>Não</td>\n",
       "    </tr>\n",
       "    <tr>\n",
       "      <th>4</th>\n",
       "      <td>02/01/2024</td>\n",
       "      <td>355030</td>\n",
       "      <td>4321</td>\n",
       "      <td>514320</td>\n",
       "      <td>S23</td>\n",
       "      <td>Escada Permanente Cu</td>\n",
       "      <td>Pa</td>\n",
       "      <td>Empregado</td>\n",
       "      <td>Feminino</td>\n",
       "      <td>30/03/1966</td>\n",
       "      <td>Típico</td>\n",
       "      <td>Distensao, Torcao</td>\n",
       "      <td>Dorso (Inclusive Mus</td>\n",
       "      <td>Não</td>\n",
       "    </tr>\n",
       "  </tbody>\n",
       "</table>\n",
       "</div>"
      ],
      "text/plain": [
       "  dt_acidente cd6_mun cd_classe  cd_cbo cd_cid        causa_acidente  \\\n",
       "0  02/01/2024  000000      1555  623310    S81  Motocicleta, Motonet   \n",
       "1  01/01/2024  230440      8411  223505    Z20         Não informado   \n",
       "2  02/01/2024  230428      4321  313105    S92  Queda de Pes. em Mes   \n",
       "3  01/01/2024  420540      8411  515105    S52  Rua e Estrada - Supe   \n",
       "4  02/01/2024  355030      4321  514320    S23  Escada Permanente Cu   \n",
       "\n",
       "  tipo_beneficio tipo_segurado    nm_sexo dt_nascimento tipo_acidente  \\\n",
       "0             Pa     Empregado  Masculino    13/02/1995       Trajeto   \n",
       "1             Pa     Empregado   Feminino    19/10/1967        Típico   \n",
       "2             Pa     Empregado  Masculino    29/07/1981        Típico   \n",
       "3             Pa     Empregado   Feminino    06/05/1986       Trajeto   \n",
       "4             Pa     Empregado   Feminino    30/03/1966        Típico   \n",
       "\n",
       "             tipo_lesao           local_lesao indica_obito  \n",
       "0  Escoriacao, Abrasao   Perna (Do Tornozelo,          Não  \n",
       "1  Lesao Imediata        Dedo                          Não  \n",
       "2  Fratura               Pe (Exceto Artelhos)          Não  \n",
       "3  Fratura               Cotovelo                      Não  \n",
       "4  Distensao, Torcao     Dorso (Inclusive Mus          Não  "
      ]
     },
     "execution_count": 12,
     "metadata": {},
     "output_type": "execute_result"
    }
   ],
   "source": [
    "catweb_2024.head()"
   ]
  },
  {
   "cell_type": "markdown",
   "metadata": {},
   "source": [
    "Exporta a tabela"
   ]
  },
  {
   "cell_type": "code",
   "execution_count": 13,
   "metadata": {},
   "outputs": [],
   "source": [
    "catweb_2024.to_csv('bases_tratadas/catweb_v1.csv', index=False, encoding='latin1', sep=';')"
   ]
  }
 ],
 "metadata": {
  "kernelspec": {
   "display_name": "Python 3",
   "language": "python",
   "name": "python3"
  },
  "language_info": {
   "codemirror_mode": {
    "name": "ipython",
    "version": 3
   },
   "file_extension": ".py",
   "mimetype": "text/x-python",
   "name": "python",
   "nbconvert_exporter": "python",
   "pygments_lexer": "ipython3",
   "version": "3.12.4"
  }
 },
 "nbformat": 4,
 "nbformat_minor": 2
}
